{
 "cells": [
  {
   "cell_type": "code",
   "execution_count": 5,
   "id": "ef9f66b7",
   "metadata": {},
   "outputs": [
    {
     "name": "stdout",
     "output_type": "stream",
     "text": [
      "Enter The Name of the Topic: Babar Azam\n",
      "File Saving Complete...\n"
     ]
    }
   ],
   "source": [
    "import requests\n",
    "from bs4 import BeautifulSoup\n",
    "\n",
    "def get_page_info(url):\n",
    "    try:\n",
    "        response = requests.get(url)\n",
    "        response.raise_for_status()  # Ensure we notice bad responses\n",
    "        soup = BeautifulSoup(response.text, 'html.parser')\n",
    "        title = soup.title.string if soup.title else 'No title'\n",
    "        paragraphs = soup.find_all('p')\n",
    "        text_content = \"\\n\".join([para.get_text() for para in paragraphs])\n",
    "        return title, text_content\n",
    "    except requests.RequestException as e:\n",
    "        print(f\"Error fetching page info for {url}: {e}\")\n",
    "        return \"Error\", \"\"\n",
    "\n",
    "def Save_InFile(top_links):\n",
    "    try:\n",
    "        with open(\"text.txt\", \"w\", encoding=\"utf-8\") as file:\n",
    "            for idx, link in enumerate(top_links, 1):\n",
    "                title, text_content = get_page_info(link)\n",
    "                file.write(f\"{idx}. {link}\\n\")\n",
    "                file.write(f\"   Title: {title}\\n\")\n",
    "                file.write(f\"   Content:\\n{text_content}\\n{'='*80}\\n\")\n",
    "        print('File Saving Complete...')\n",
    "    except Exception as e:\n",
    "        print(f\"Error saving file: {e}\")\n",
    "\n",
    "def get_links_from_tavily():\n",
    "    api_key = \"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\"\n",
    "    query = input('Enter The Name of the Topic: ')\n",
    "    params = {\n",
    "        \"query\": query+'article',\n",
    "        \"api_key\": api_key,\n",
    "        \"limit\": 10  # Number of results to return\n",
    "    }    \n",
    "    \n",
    "    try:\n",
    "        response = requests.post(\"https://api.tavily.com/search\", json=params)\n",
    "        response.raise_for_status()  # Ensure we notice bad responses\n",
    "        results = response.json()    \n",
    "        \n",
    "        if 'results' in results:\n",
    "            top_10_links = [result['url'] for result in results['results'][:10]]\n",
    "            if not any(\"wikipedia.org\" in link for link in top_10_links):\n",
    "                wiki_search_response = requests.get(f\"https://en.wikipedia.org/wiki/{query.replace(' ', '_')}\")\n",
    "                if wiki_search_response.status_code == 200:\n",
    "                    top_10_links.append(wiki_search_response.url)\n",
    "            Save_InFile(top_10_links)\n",
    "            return top_10_links\n",
    "        else:\n",
    "            print(\"No 'results' found in the API response\")\n",
    "            return []\n",
    "    \n",
    "    except requests.RequestException as e:\n",
    "        print(f\"Error fetching links from Tavily: {e}\")\n",
    "        return []\n",
    "\n",
    "top_10_links = get_links_from_tavily()\n"
   ]
  },
  {
   "cell_type": "code",
   "execution_count": null,
   "id": "8732c65c",
   "metadata": {},
   "outputs": [],
   "source": []
  }
 ],
 "metadata": {
  "kernelspec": {
   "display_name": "Python 3 (ipykernel)",
   "language": "python",
   "name": "python3"
  },
  "language_info": {
   "codemirror_mode": {
    "name": "ipython",
    "version": 3
   },
   "file_extension": ".py",
   "mimetype": "text/x-python",
   "name": "python",
   "nbconvert_exporter": "python",
   "pygments_lexer": "ipython3",
   "version": "3.10.9"
  }
 },
 "nbformat": 4,
 "nbformat_minor": 5
}
