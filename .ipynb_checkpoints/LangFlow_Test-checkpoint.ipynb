{
 "cells": [
  {
   "cell_type": "code",
   "execution_count": 1,
   "id": "6a339cd8",
   "metadata": {},
   "outputs": [],
   "source": [
    "from langflow.load import run_flow_from_json\n",
    "TWEAKS = {\n",
    "  \"ChatInput-eRZ4s\": {},\n",
    "  \"Prompt-WxrOa\": {},\n",
    "  \"ChatOutput-G3OiS\": {},\n",
    "  \"OpenAIModel-RZuxG\": {}\n",
    "}\n",
    "\n"
   ]
  },
  {
   "cell_type": "code",
   "execution_count": 2,
   "id": "2fe8c77b",
   "metadata": {},
   "outputs": [],
   "source": [
    "result = run_flow_from_json(flow=\"Basic Prompting (Hello, World).json\",\n",
    "                            input_value=\"why is my car making squeeky sounds?\",\n",
    "                            fallback_to_env_vars=True, # False by default\n",
    "                            tweaks=TWEAKS)"
   ]
  },
  {
   "cell_type": "code",
   "execution_count": 3,
   "id": "ae4ddaa3",
   "metadata": {},
   "outputs": [
    {
     "data": {
      "text/plain": [
       "[RunOutputs(inputs={'input_value': 'why is my car making squeeky sounds?'}, outputs=[ResultData(results={'message': Message(text_key='text', data={'text': \"It sounds like your car might need some attention. Squeaky sounds can come from a few different places. Here are some common reasons:\\n\\n1. **Brakes**: If the squeak happens when you brake, it might be the brake pads.\\n2. **Belts**: A worn or loose belt can make a squeaky noise.\\n3. **Suspension**: Parts of the suspension system can squeak if they need lubrication or are worn out.\\n\\nIt's a good idea to have a mechanic check it out to find the exact cause. They can fix it and make sure your car is safe to drive.\", 'sender': 'Machine', 'sender_name': 'AI', 'session_id': '', 'files': [], 'timestamp': '2024-07-14 10:43:59'}, default_value='', text=\"It sounds like your car might need some attention. Squeaky sounds can come from a few different places. Here are some common reasons:\\n\\n1. **Brakes**: If the squeak happens when you brake, it might be the brake pads.\\n2. **Belts**: A worn or loose belt can make a squeaky noise.\\n3. **Suspension**: Parts of the suspension system can squeak if they need lubrication or are worn out.\\n\\nIt's a good idea to have a mechanic check it out to find the exact cause. They can fix it and make sure your car is safe to drive.\", sender='Machine', sender_name='AI', files=[], session_id='', timestamp='2024-07-14 10:43:59', flow_id=None)}, artifacts={'message': \"It sounds like your car might need some attention. Squeaky sounds can come from a few different places. Here are some common reasons:\\n\\n1. **Brakes**: If the squeak happens when you brake, it might be the brake pads.\\n\\n2. **Belts**: A worn or loose belt can make a squeaky noise.\\n\\n3. **Suspension**: Parts of the suspension system can squeak if they need lubrication or are worn out.\\n\\nIt's a good idea to have a mechanic check it out to find the exact cause. They can fix it and make sure your car is safe to drive.\", 'sender': 'Machine', 'sender_name': 'AI', 'files': [], 'type': 'object'}, outputs={'message': {'message': {'text': \"It sounds like your car might need some attention. Squeaky sounds can come from a few different places. Here are some common reasons:\\n\\n1. **Brakes**: If the squeak happens when you brake, it might be the brake pads.\\n2. **Belts**: A worn or loose belt can make a squeaky noise.\\n3. **Suspension**: Parts of the suspension system can squeak if they need lubrication or are worn out.\\n\\nIt's a good idea to have a mechanic check it out to find the exact cause. They can fix it and make sure your car is safe to drive.\", 'sender': 'Machine', 'sender_name': 'AI', 'session_id': '', 'files': [], 'timestamp': '2024-07-14 10:43:59'}, 'type': 'object'}}, messages=[ChatOutputResponse(message=\"It sounds like your car might need some attention. Squeaky sounds can come from a few different places. Here are some common reasons:\\n\\n1. **Brakes**: If the squeak happens when you brake, it might be the brake pads.\\n\\n2. **Belts**: A worn or loose belt can make a squeaky noise.\\n\\n3. **Suspension**: Parts of the suspension system can squeak if they need lubrication or are worn out.\\n\\nIt's a good idea to have a mechanic check it out to find the exact cause. They can fix it and make sure your car is safe to drive.\", sender='Machine', sender_name='AI', session_id='', stream_url=None, component_id='ChatOutput-G3OiS', files=[], type='message')], timedelta=None, duration=None, component_display_name='Chat Output', component_id='ChatOutput-G3OiS', used_frozen_result=False)])]"
      ]
     },
     "execution_count": 3,
     "metadata": {},
     "output_type": "execute_result"
    }
   ],
   "source": [
    "result"
   ]
  },
  {
   "cell_type": "code",
   "execution_count": 20,
   "id": "5de00d6d",
   "metadata": {},
   "outputs": [
    {
     "name": "stdout",
     "output_type": "stream",
     "text": [
      "It sounds like your car might need some attention. Squeaky sounds can come from a few different places. Here are some common reasons:\n",
      "\n",
      "1. **Brakes**: If the squeak happens when you brake, it might be the brake pads.\n",
      "2. **Belts**: A worn or loose belt can make a squeaky noise.\n",
      "3. **Suspension**: Parts of the suspension system can squeak if they need lubrication or are worn out.\n",
      "\n",
      "It's a good idea to have a mechanic check it out to find the exact cause. They can fix it and make sure your car is safe to drive.\n"
     ]
    }
   ],
   "source": [
    "print(result[0].outputs[0].results['message'].data['text'])"
   ]
  },
  {
   "cell_type": "code",
   "execution_count": null,
   "id": "07804aff",
   "metadata": {},
   "outputs": [],
   "source": []
  },
  {
   "cell_type": "code",
   "execution_count": null,
   "id": "edff1e6f",
   "metadata": {},
   "outputs": [],
   "source": []
  },
  {
   "cell_type": "code",
   "execution_count": 21,
   "id": "fa675dac",
   "metadata": {},
   "outputs": [],
   "source": [
    "from langchain_community.utilities import SerpAPIWrapper"
   ]
  },
  {
   "cell_type": "code",
   "execution_count": 24,
   "id": "dc2598e7",
   "metadata": {},
   "outputs": [],
   "source": [
    "serpapi_key = '38b37c76d5908567343cd014b30298cdbdba8a653333abe21e5765e2c30130ca'"
   ]
  },
  {
   "cell_type": "code",
   "execution_count": 25,
   "id": "6716afc8",
   "metadata": {},
   "outputs": [],
   "source": [
    "search = serp = SerpAPIWrapper(serpapi_api_key=serpapi_key)"
   ]
  },
  {
   "cell_type": "code",
   "execution_count": 29,
   "id": "32dd841a",
   "metadata": {},
   "outputs": [],
   "source": [
    "results = search.run(\"Black Holes\")"
   ]
  },
  {
   "cell_type": "code",
   "execution_count": null,
   "id": "c4aa1a5b",
   "metadata": {},
   "outputs": [],
   "source": []
  },
  {
   "cell_type": "code",
   "execution_count": null,
   "id": "4d61f0ac",
   "metadata": {},
   "outputs": [],
   "source": []
  },
  {
   "cell_type": "code",
   "execution_count": null,
   "id": "0fdb431f",
   "metadata": {},
   "outputs": [],
   "source": []
  },
  {
   "cell_type": "code",
   "execution_count": null,
   "id": "38e180c2",
   "metadata": {},
   "outputs": [],
   "source": []
  },
  {
   "cell_type": "code",
   "execution_count": 51,
   "id": "76845530",
   "metadata": {},
   "outputs": [
    {
     "name": "stdout",
     "output_type": "stream",
     "text": [
      "\n",
      "\n",
      "\u001b[1m> Entering new AgentExecutor chain...\u001b[0m\n",
      "\u001b[32;1m\u001b[1;3mThought: This question requires a detailed explanation of black holes, including their characteristics and properties.\n",
      "Action:\n",
      "```\n",
      "{\n",
      "  \"action\": \"tavily_search_results_json\",\n",
      "  \"action_input\": \"Black holes characteristics and properties\"\n",
      "}\n",
      "```\u001b[0m\n",
      "Observation: \u001b[36;1m\u001b[1;3m[{'url': 'https://www.nasa.gov/universe/what-are-black-holes/', 'content': 'Lucy Surprises Again, Observes 1st-ever Contact Binary Orbiting Asteroid\\nFirst Science Images Released From ESA Mission With NASA Contributions\\nWatch NASA Build Its First Robotic Moon Rover\\nMissions\\nHumans in Space\\nEarth & Climate\\nThe Solar System\\nThe Universe\\nScience\\nAeronautics\\nTechnology\\nLearning Resources\\nAbout NASA\\nEspañol\\nNews & Events\\nMultimedia\\nHighlights\\nNASA’s Webb Telescope Improves Simulation Software\\nSalts and Organics Observed on Ganymede’s Surface by NASA’s Juno\\n25 Years Ago: 40 Years Ago: STS-9, the First Spacelab Science Mission\\nHighlights\\nAero Engineer Brings NASA into Hawaii’s Classrooms\\nNASA Orbiter Snaps Stunning Views of Mars Horizon\\n40 Years Ago: STS-9, the First Spacelab Science Mission\\nHighlights\\nAero Engineer Brings NASA into Hawaii’s Classrooms\\nLa Movilidad Aérea Avanzada Ayuda al Transporte de Mercancías\\nNASA Selects Awardees for New Aviation Maintenance Challenge\\nHighlights\\n‘Digital Winglets’ for Real Time Flight Paths Born from NASA Tech\\nNASA Researcher Honored by Goddard Tech Office for Earth Science Work\\nNASA Engineer Earns Goddard Innovation Award for Sun-studying Photon Sieves\\nFeatured\\nEarthrise: STS-95, John Glenn Returns to Space\\nHighlights\\nSpacelab 1: A Model for International Cooperation\\nScience on Station: November 2023\\nCommercial Use of the International Space Station\\nHighlights\\nAero Engineer Brings NASA into Hawaii’s Classrooms\\nNASA Orbiter Snaps Stunning Views of Mars Horizon\\n40 Years Ago: STS-9, the First Spacelab Science Mission\\nHighlights\\nNASA Orbiter Snaps Stunning Views of Mars Horizon\\nWebb Follows Neon Signs Toward New Thinking on Planet Formation\\nTime Is Running Out to Add Your Name to NASA’s Europa Clipper\\nFeatured\\n Monthly e-Newsletter With Earth and Climate Science Resources\\nHighlights\\nAero Engineer Brings NASA into Hawaii’s Classrooms\\nNASA Orbiter Snaps Stunning Views of Mars Horizon\\n40 Years Ago NASA’s Hubble, Chandra, Swift, NuSTAR, and NICER space telescopes, as well as other missions, continue to take the measure of black holes and their environments so we can learn more about these enigmatic objects and their role in the evolution of galaxies and the universe at large.\\n'}, {'url': 'https://www.britannica.com/science/black-hole', 'content': 'Inside the event horizon the escape velocity (i.e., the velocity required for matter to escape from the gravitational field of a cosmic object) exceeds the speed of light, so that not even rays of light can escape into space. The existence of even larger black holes, each with a mass equal to 10 billion Suns, can be inferred from the energetic effects on gas swirling at extremely high velocities around the centre of NGC 3842 and NGC 4889, galaxies near the Milky Way.\\n For example, if a black hole is a member of a binary star system, matter flowing into it from its companion becomes intensely heated and then radiates X-rays copiously before entering the event horizon of the black hole and disappearing forever. One example of a black hole is can be found in Cygnus X-1, a binary X-ray system consisting of a blue supergiant and an invisible companion 14.8 times the mass of the Sun. Discovered in 1971 in the constellation Cygnus, this binary consists of a blue supergiant and an invisible companion 14.8 times the mass of the Sun that revolve about one another in a period of 5.6 days.\\n'}, {'url': 'https://en.wikipedia.org/wiki/Black_hole', 'content': 'He correctly noted that such supermassive but non-radiating bodies might be detectable through their gravitational effects on nearby visible bodies.[8][13][14] Scholars of the time were initially excited by the proposal that giant but invisible \\'dark stars\\' might be hiding in plain view, but enthusiasm dampened when the wavelike nature of light became apparent in the early nineteenth century,[15] as if light were a wave rather than a particle, it was unclear what, if any, influence gravity would have on escaping light waves.[8][14]\\nThe modern theory of gravity, general relativity, discredits Michell\\'s notion of a light ray shooting directly from the surface of a supermassive star, being slowed down by the star\\'s gravity, stopping, and then free-falling back to the star\\'s surface.[16] Instead, spacetime itself is curved such that the geodesic light travels on never leaves the surface of the \"star\" (black hole).\\n Similarly, the total mass inside a sphere containing a black hole can be found by using the gravitational analog of Gauss\\'s law (through the ADM mass), far away from the black hole.[67] Likewise, the angular momentum (or spin) can be measured from far away using frame dragging by the gravitomagnetic field, through for example the Lense–Thirring effect.[68]\\nWhen an object falls into a black hole, any information about the shape of the object or distribution of charge on it is evenly distributed along the horizon of the black hole, and is lost to outside observers. However, in the late 1960s Roger Penrose[48] and Stephen Hawking used global techniques to prove that singularities appear generically.[49] For this work, Penrose received half of the 2020 Nobel Prize in Physics, Hawking having died in 2018.[50] Based on observations in Greenwich and Toronto in the early 1970s, Cygnus X-1, a galactic X-ray source discovered in 1964, became the first astronomical object commonly accepted to be a black hole.[51][52]\\nWork by James Bardeen, Jacob Bekenstein, Carter, and Hawking in the early 1970s led to the formulation of black hole thermodynamics.[53] These laws describe the behaviour of a black hole in close analogy to the laws of thermodynamics by relating mass to energy, area to entropy, and surface gravity to temperature. For a rotating black hole, this effect is so strong near the event horizon that an object would have to move faster than the speed of light in the opposite direction to just stand still.[116]\\nThe ergosphere of a black hole is a volume bounded by the black hole\\'s event horizon and the ergosurface, which coincides with the event horizon at the poles but is at a much greater distance around the equator.[115]\\nObjects and radiation can escape normally from the ergosphere. For non-rotating (static) black holes the geometry of the event horizon is precisely spherical, while for rotating black holes the event horizon is oblate.[96][97][98]\\nSingularity\\nAt the centre of a black hole, as described by general relativity, may lie a gravitational singularity, a region where the spacetime curvature becomes infinite.[99] For a non-rotating black hole, this region takes the shape of a single point; for a rotating black hole it is smeared out to form a ring singularity that lies in the plane of rotation.[100]'}, {'url': 'https://science.nasa.gov/universe/black-holes/', 'content': 'Black holes are among the most mysterious and fascinating objects in the universe. They are not really holes, but huge concentrations of matter that warp space and time around them. Learn more about the basics of black holes, how they form, what happens near them, and how NASA studies them in this webpage from NASA Science.'}, {'url': 'https://www.space.com/15421-black-holes-facts-formation-discovery-sdcmp.html', 'content': \"Another study that year showed that a cool gas halo surrounds Sagittarius A*, which gives unprecedented insight into what the environment around a black hole looks like.\\nTypes of black holes\\nSo far, astronomers have identified three types of black holes: stellar black holes, supermassive black holes and intermediate black holes.\\n Another way that black holes form is from the direct collapse of gas, a process that is expected to result in more massive black holes with a mass ranging from 1000 times the mass of the sun up to even 100,000 times the mass of the sun. The resulting black hole that is left behind is referred to as a stellar mass black hole and its mass is of the order of a few times the mass of the sun.\\n In 2021, Daisy completed a PhD in plant physiology and also holds a Master's in Environmental Science, she is currently based in Nottingham, U.K.\\nCosmic radiation during spaceflight could increase risk of erectile dysfunction in astronauts\\nJames Webb Space Telescope finds water and methane in atmosphere of a 'warm Jupiter'\\nMeta Quest 3 only launched last month, but the Black Friday deals are here already\\nBy Fran RuizOctober 03, 2023\\n The inner region of a black hole, where the object's mass lies, is known as its singularity, the single point in space-time where the mass of the black hole is concentrated.\\n\"}]\u001b[0m\n"
     ]
    },
    {
     "name": "stdout",
     "output_type": "stream",
     "text": [
      "Thought:\u001b[32;1m\u001b[1;3m```\n",
      "{\n",
      "  \"action\": \"Final Answer\",\n",
      "  \"action_input\": \"Black holes are among the most mysterious and fascinating objects in the universe. They are not really holes, but huge concentrations of matter that warp space and time around them. Learn more about the basics of black holes, how they form, what happens near them, and how NASA studies them in this webpage from NASA Science: https://science.nasa.gov/universe/black-holes/\"\n",
      "}\n",
      "```\u001b[0m\n",
      "\n",
      "\u001b[1m> Finished chain.\u001b[0m\n"
     ]
    }
   ],
   "source": [
    "import os\n",
    "from langchain.utilities.tavily_search import TavilySearchAPIWrapper\n",
    "from langchain.agents import initialize_agent, AgentType\n",
    "from langchain_community.chat_models import ChatOpenAI\n",
    "from langchain.tools.tavily_search import TavilySearchResults\n",
    "\n",
    "\n",
    "Text = \"What are Black holes\"\n",
    "\n",
    "# set up API key\n",
    "os.environ[\"TAVILY_API_KEY\"] = \"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\"\n",
    "\n",
    "# set up the agent\n",
    "llm = ChatOpenAI(model_name=\"gpt-3.5-turbo\", temperature=0.7,openai_api_key='sk-proj-dnSYvgE5U0JHvudysMewT3BlbkFJvJRcCL9D1VQhm48NnEKd')\n",
    "search = TavilySearchAPIWrapper()\n",
    "tavily_tool = TavilySearchResults(api_wrapper=search)\n",
    "\n",
    "# initialize the agent\n",
    "agent_chain = initialize_agent(\n",
    "    [tavily_tool],\n",
    "    llm,\n",
    "    agent=AgentType.STRUCTURED_CHAT_ZERO_SHOT_REACT_DESCRIPTION,\n",
    "    verbose=True,\n",
    ")\n",
    "\n",
    "results = agent_chain.run(Text+\". Explain in detail with points.\",)"
   ]
  },
  {
   "cell_type": "code",
   "execution_count": 52,
   "id": "91531957",
   "metadata": {},
   "outputs": [
    {
     "data": {
      "text/plain": [
       "'Black holes are among the most mysterious and fascinating objects in the universe. They are not really holes, but huge concentrations of matter that warp space and time around them. Learn more about the basics of black holes, how they form, what happens near them, and how NASA studies them in this webpage from NASA Science: https://science.nasa.gov/universe/black-holes/'"
      ]
     },
     "execution_count": 52,
     "metadata": {},
     "output_type": "execute_result"
    }
   ],
   "source": [
    "results\n"
   ]
  },
  {
   "cell_type": "code",
   "execution_count": 41,
   "id": "2fbc2558",
   "metadata": {},
   "outputs": [
    {
     "name": "stdout",
     "output_type": "stream",
     "text": [
      "\n",
      "\n",
      "\u001b[1m> Entering new AgentExecutor chain...\u001b[0m\n",
      "\u001b[32;1m\u001b[1;3mThought: Black holes are complex astronomical phenomena. I will provide a detailed explanation using key points. \n",
      "\n",
      "Action:\n",
      "```\n",
      "{\n",
      "  \"action\": \"Final Answer\",\n",
      "  \"action_input\": \"A black hole is a region in space where the pulling force of gravity is so strong that light is not able to escape. Here are some detailed points:\n",
      "\n",
      "1. **Origin**: Black holes are formed from the remnants of large stars, which undergo a supernova explosion.\n",
      "\n",
      "2. **Event Horizon**: This is the boundary around the mouth of the black hole where nothing can escape, not even light.\n",
      "\n",
      "3. **Singularity**: This is the centre of a black hole, where the matter is thought to be infinitely dense. The laws of physics as we know them cease to operate at the singularity.\n",
      "\n",
      "4. **Spaghettification**: This is a term used to describe what would happen if an object got too close to a black hole. The intense gravitational pull would stretch the object into long thin shapes, like spaghetti.\n",
      "\n",
      "5. **Types of Black Holes**: There are three types of black holes: stellar (the most common, formed by the gravitational collapse of a single star), intermediate (mid-sized black holes), and supermassive (the largest type, found at the center of galaxies, including our Milky Way).\n",
      "\n",
      "6. **Detection**: Black holes cannot be seen directly because no light can escape from them. However, they can be detected by observing their effects on nearby matter and light.\n",
      "\n",
      "7. **Hawking Radiation**: Theoretical physicist Stephen Hawking proposed that black holes emit small amounts of thermal radiation due to quantum effects near the event horizon. This is known as Hawking Radiation.\n",
      "\n",
      "8. **Time Distortion**: Near a black hole, the strength of gravity can significantly slow time in comparison to further away. This is a prediction of Einstein's theory of relativity.\"\n",
      "}\n",
      "```\u001b[0m\n",
      "\n",
      "\u001b[1m> Finished chain.\u001b[0m\n"
     ]
    }
   ],
   "source": [
    "# run the agent\n",
    "\n"
   ]
  },
  {
   "cell_type": "code",
   "execution_count": 42,
   "id": "838b4b74",
   "metadata": {},
   "outputs": [
    {
     "name": "stdout",
     "output_type": "stream",
     "text": [
      "A black hole is a region in space where the pulling force of gravity is so strong that light is not able to escape. Here are some detailed points:\n",
      "\n",
      "1. **Origin**: Black holes are formed from the remnants of large stars, which undergo a supernova explosion.\n",
      "\n",
      "2. **Event Horizon**: This is the boundary around the mouth of the black hole where nothing can escape, not even light.\n",
      "\n",
      "3. **Singularity**: This is the centre of a black hole, where the matter is thought to be infinitely dense. The laws of physics as we know them cease to operate at the singularity.\n",
      "\n",
      "4. **Spaghettification**: This is a term used to describe what would happen if an object got too close to a black hole. The intense gravitational pull would stretch the object into long thin shapes, like spaghetti.\n",
      "\n",
      "5. **Types of Black Holes**: There are three types of black holes: stellar (the most common, formed by the gravitational collapse of a single star), intermediate (mid-sized black holes), and supermassive (the largest type, found at the center of galaxies, including our Milky Way).\n",
      "\n",
      "6. **Detection**: Black holes cannot be seen directly because no light can escape from them. However, they can be detected by observing their effects on nearby matter and light.\n",
      "\n",
      "7. **Hawking Radiation**: Theoretical physicist Stephen Hawking proposed that black holes emit small amounts of thermal radiation due to quantum effects near the event horizon. This is known as Hawking Radiation.\n",
      "\n",
      "8. **Time Distortion**: Near a black hole, the strength of gravity can significantly slow time in comparison to further away. This is a prediction of Einstein's theory of relativity.\n"
     ]
    }
   ],
   "source": [
    "print(results)"
   ]
  },
  {
   "cell_type": "code",
   "execution_count": null,
   "id": "ee51cd66",
   "metadata": {},
   "outputs": [],
   "source": []
  }
 ],
 "metadata": {
  "kernelspec": {
   "display_name": "lablab",
   "language": "python",
   "name": "lablab"
  },
  "language_info": {
   "codemirror_mode": {
    "name": "ipython",
    "version": 3
   },
   "file_extension": ".py",
   "mimetype": "text/x-python",
   "name": "python",
   "nbconvert_exporter": "python",
   "pygments_lexer": "ipython3",
   "version": "3.10.14"
  }
 },
 "nbformat": 4,
 "nbformat_minor": 5
}
